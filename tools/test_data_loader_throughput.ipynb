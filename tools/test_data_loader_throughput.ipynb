{
 "cells": [
  {
   "cell_type": "code",
   "execution_count": 2,
   "metadata": {},
   "outputs": [
    {
     "name": "stdout",
     "output_type": "stream",
     "text": [
      "Time taken to get one document: 0.03676414489746094 seconds\n",
      "Size of the patch file: 522956 bytes\n"
     ]
    }
   ],
   "source": [
    "from pymongo import MongoClient\n",
    "import time\n",
    "import os\n",
    "import random\n",
    "\n",
    "client = MongoClient('localhost', 27017)\n",
    "db = client['USDA_NAIP_DOQQ']\n",
    "collection = db['m_4207511_sw_18_060_20221022']\n",
    "\n",
    "# get one document\n",
    "start_time = time.time()\n",
    "doc = collection.find_one()\n",
    "end_time = time.time()\n",
    "print(f\"Time taken to get one document: {end_time - start_time} seconds\")\n",
    "\n",
    "# get the image patch from the document\n",
    "patch = doc['patch']\n",
    "# get the size of the patch file\n",
    "patch_size = len(patch)\n",
    "print(f\"Size of the patch file: {patch_size} bytes\")"
   ]
  },
  {
   "cell_type": "code",
   "execution_count": 3,
   "metadata": {},
   "outputs": [
    {
     "name": "stdout",
     "output_type": "stream",
     "text": [
      "USDA_NAIP_DOQQ\n"
     ]
    }
   ],
   "source": [
    "datasets = client.list_database_names()\n",
    "for dataset in datasets:\n",
    "    if dataset not in ['admin', 'config', 'local']:\n",
    "        print(dataset)"
   ]
  },
  {
   "cell_type": "code",
   "execution_count": 27,
   "metadata": {},
   "outputs": [
    {
     "name": "stdout",
     "output_type": "stream",
     "text": [
      "Time to load collection: 0.00s\n",
      "Time to load patch: 0.05s\n"
     ]
    }
   ],
   "source": [
    "import matplotlib.pyplot as plt\n",
    "import io\n",
    "from PIL import Image, ImageFile\n",
    "\n",
    "# load specific image\n",
    "COLLECTION = 'm_1915517_se_05_060_20220331_20220909'\n",
    "PATCH = '6_2'\n",
    "\n",
    "# get the collection and test time\n",
    "start_time = time.time()\n",
    "collection = db.get_collection(COLLECTION)\n",
    "test_time = time.time() - start_time\n",
    "print(f\"Time to load collection: {test_time:.2f}s\")\n",
    "\n",
    "# get the patch and test time\n",
    "start_time = time.time()\n",
    "patch = collection.find_one({'name': PATCH})\n",
    "test_time = time.time() - start_time\n",
    "print(f\"Time to load patch: {test_time:.2f}s\")\n",
    "\n"
   ]
  },
  {
   "cell_type": "code",
   "execution_count": 28,
   "metadata": {},
   "outputs": [
    {
     "ename": "TypeError",
     "evalue": "'NoneType' object is not subscriptable",
     "output_type": "error",
     "traceback": [
      "\u001b[0;31m---------------------------------------------------------------------------\u001b[0m",
      "\u001b[0;31mTypeError\u001b[0m                                 Traceback (most recent call last)",
      "Cell \u001b[0;32mIn[28], line 2\u001b[0m\n\u001b[1;32m      1\u001b[0m ImageFile\u001b[38;5;241m.\u001b[39mLOAD_TRUNCATED_IMAGES \u001b[38;5;241m=\u001b[39m \u001b[38;5;28;01mTrue\u001b[39;00m\n\u001b[0;32m----> 2\u001b[0m img \u001b[38;5;241m=\u001b[39m Image\u001b[38;5;241m.\u001b[39mopen(io\u001b[38;5;241m.\u001b[39mBytesIO(\u001b[43mpatch\u001b[49m\u001b[43m[\u001b[49m\u001b[38;5;124;43m'\u001b[39;49m\u001b[38;5;124;43mpatch\u001b[39;49m\u001b[38;5;124;43m'\u001b[39;49m\u001b[43m]\u001b[49m))\u001b[38;5;241m.\u001b[39mconvert(\u001b[38;5;124m'\u001b[39m\u001b[38;5;124mRGB\u001b[39m\u001b[38;5;124m'\u001b[39m)\n\u001b[1;32m      4\u001b[0m plt\u001b[38;5;241m.\u001b[39mimshow(img)\n",
      "\u001b[0;31mTypeError\u001b[0m: 'NoneType' object is not subscriptable"
     ]
    }
   ],
   "source": [
    "ImageFile.LOAD_TRUNCATED_IMAGES = True\n",
    "img = Image.open(io.BytesIO(patch['patch'])).convert('RGB')\n",
    "\n",
    "plt.imshow(img)"
   ]
  },
  {
   "cell_type": "code",
   "execution_count": 20,
   "metadata": {},
   "outputs": [],
   "source": []
  },
  {
   "cell_type": "code",
   "execution_count": 29,
   "metadata": {},
   "outputs": [
    {
     "name": "stdout",
     "output_type": "stream",
     "text": [
      "['11_7', '1_12', '6_10', '2_8', '5_13', '5_2', '2_1', '8_13', '3_12', '1_7', '4_10', '6_4', '6_3', '4_5', '8_2', '3_6', '8_5', '10_11', '12_6', '13_7', '2_10', '9_4', '2_7', '9_3', '12_10', '2_9', '7_2', '11_8', '7_5', '8_4', '12_7', '3_7', '3_9', '4_4', '7_12', '4_11', '10_8', '13_13', '1_1', '10_6', '10_1', '9_11', '13_14', '12_3', '3_4', '3_3', '10_13', '4_7', '7_11', '6_6', '9_12', '13_10', '1_2', '10_5', '2_4', '13_4', '2_13', '9_7', '8_11', '9_9', '7_6', '6_12', '7_1', '11_2', '11_5', '7_8', '13_11', '10_4', '6_9', '9_14', '10_3', '9_13', '6_7', '4_6', '8_6', '4_8', '12_5', '8_1', '11_4', '7_9', '11_3', '5_1', '13_5', '2_12', '9_6', '8_10', '12_12', '13_2']\n"
     ]
    },
    {
     "name": "stderr",
     "output_type": "stream",
     "text": [
      "Loading patches by name: 100%|██████████| 88/88 [00:00<00:00, 173.77it/s]\n"
     ]
    },
    {
     "name": "stdout",
     "output_type": "stream",
     "text": [
      "Time elapsed: 0.5113587379455566 throughput:  172.09053736629252\n"
     ]
    },
    {
     "name": "stderr",
     "output_type": "stream",
     "text": [
      "Loading patches by _id: 100%|██████████| 88/88 [00:00<00:00, 136.74it/s]"
     ]
    },
    {
     "name": "stdout",
     "output_type": "stream",
     "text": [
      "Time elapsed: 0.6477766036987305 throughput:  135.8493028268234\n"
     ]
    },
    {
     "name": "stderr",
     "output_type": "stream",
     "text": [
      "\n"
     ]
    }
   ],
   "source": [
    "from tqdm import tqdm\n",
    "patches = collection.find({}, {\"name\": 1})\n",
    "name_list = []\n",
    "id_list = []\n",
    "for name in patches:\n",
    "    name_list.append(name['name'])\n",
    "    id_list.append(name['_id'])\n",
    "print(name_list)\n",
    "# shuffling the list\n",
    "random.shuffle(name_list)\n",
    "start_time = time.time()\n",
    "for name in tqdm(name_list, desc='Loading patches by name'):\n",
    "    patch = collection.find_one({'name': name})\n",
    "    img = Image.open(io.BytesIO(patch['patch'])).convert('RGB')\n",
    "end_time = time.time()\n",
    "print('Time elapsed:', end_time - start_time, 'throughput: ', len(name_list) / (end_time - start_time))\n",
    "random.shuffle(id_list)\n",
    "start_time = time.time()\n",
    "for _id in tqdm(id_list, desc='Loading patches by _id'):\n",
    "    patch = collection.find_one({'_id': _id})\n",
    "    img = Image.open(io.BytesIO(patch['patch'])).convert('RGB')\n",
    "end_time = time.time()\n",
    "print('Time elapsed:', end_time - start_time, 'throughput: ', len(id_list) / (end_time - start_time))"
   ]
  },
  {
   "cell_type": "code",
   "execution_count": 25,
   "metadata": {},
   "outputs": [
    {
     "name": "stdout",
     "output_type": "stream",
     "text": [
      "145\n",
      "patches/sec: 9.138160511162583\n"
     ]
    }
   ],
   "source": [
    "print(len(name_list))\n",
    "print('patches/sec:', len(name_list) / (end_time - start_time))"
   ]
  },
  {
   "cell_type": "code",
   "execution_count": 3,
   "metadata": {},
   "outputs": [],
   "source": [
    "# delete database named 'RSVLD' in mongodb\n",
    "client.drop_database('RSVLD')"
   ]
  },
  {
   "cell_type": "code",
   "execution_count": null,
   "metadata": {},
   "outputs": [],
   "source": []
  }
 ],
 "metadata": {
  "kernelspec": {
   "display_name": "gjy-openclip",
   "language": "python",
   "name": "python3"
  },
  "language_info": {
   "codemirror_mode": {
    "name": "ipython",
    "version": 3
   },
   "file_extension": ".py",
   "mimetype": "text/x-python",
   "name": "python",
   "nbconvert_exporter": "python",
   "pygments_lexer": "ipython3",
   "version": "3.9.19"
  }
 },
 "nbformat": 4,
 "nbformat_minor": 2
}
