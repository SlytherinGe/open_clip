{
 "cells": [
  {
   "cell_type": "code",
   "execution_count": 1,
   "metadata": {},
   "outputs": [
    {
     "name": "stderr",
     "output_type": "stream",
     "text": [
      "/mnt/FastDisk/miniconda3/envs/gjy-openclip/lib/python3.9/site-packages/tqdm/auto.py:21: TqdmWarning: IProgress not found. Please update jupyter and ipywidgets. See https://ipywidgets.readthedocs.io/en/stable/user_install.html\n",
      "  from .autonotebook import tqdm as notebook_tqdm\n"
     ]
    }
   ],
   "source": [
    "from src.training.annotation_sampler import AnnotationSampler, WDSAnnotationSampler\n",
    "from webdataset import WebDataset\n",
    "import os\n",
    "import webdataset as wds\n",
    "from src.training.data import tarfile_to_samples_nothrow, filter_no_caption_or_no_image\n",
    "# Define the path to the dataset\n",
    "DATASET_PATH = '/mnt/HDD1/Datasets/RSVLD/RSVLD1M'\n",
    "\n",
    "# Define the path to the annotation database\n",
    "ANNOTATION_DB_PATH = '/mnt/FastDisk/GeJunYao/VLP/databases/annotation.db'"
   ]
  },
  {
   "cell_type": "code",
   "execution_count": 12,
   "metadata": {},
   "outputs": [],
   "source": [
    "\n",
    "# input_shard_pattern = 'Patches{0000..16}.tar'\n",
    "# input_shards = os.path.join(DATASET_PATH, input_shard_pattern)\n",
    "input_shards = '/mnt/SrvDataDisk/DatasetMultiModal/LAION400M/laion400m-data/{00000..00016}.tar'\n",
    "pipeline = [wds.SimpleShardList(input_shards),\n",
    "            tarfile_to_samples_nothrow,\n",
    "            wds.shuffle(),\n",
    "            WDSAnnotationSampler(ANNOTATION_DB_PATH, dict(type='random')),\n",
    "            wds.select(filter_no_caption_or_no_image),\n",
    "            wds.decode(\"pilrgb\"),\n",
    "            wds.rename(image=\"jpg;png;jpeg;webp\", text=\"txt\"),\n",
    "            wds.to_tuple(\"image\", \"text\")\n",
    "        ]\n",
    "\n",
    "dataset = wds.DataPipeline(pipeline)"
   ]
  },
  {
   "cell_type": "code",
   "execution_count": 13,
   "metadata": {},
   "outputs": [
    {
     "data": {
      "text/plain": [
       "(<PIL.Image.Image image mode=RGB size=256x256>,\n",
       " 'Vibrant Colorful Daisy Gerbera Flowers')"
      ]
     },
     "execution_count": 13,
     "metadata": {},
     "output_type": "execute_result"
    }
   ],
   "source": [
    "next(iter(dataset))"
   ]
  },
  {
   "cell_type": "code",
   "execution_count": 14,
   "metadata": {},
   "outputs": [
    {
     "data": {
      "text/plain": [
       "('images4/a425831489_US_21', '.jpg')"
      ]
     },
     "execution_count": 14,
     "metadata": {},
     "output_type": "execute_result"
    }
   ],
   "source": [
    "path = 'images4/a425831489_US_21.jpg'\n",
    "os.path.splitext(path)"
   ]
  },
  {
   "cell_type": "code",
   "execution_count": null,
   "metadata": {},
   "outputs": [],
   "source": []
  }
 ],
 "metadata": {
  "kernelspec": {
   "display_name": "gjy-openclip",
   "language": "python",
   "name": "python3"
  },
  "language_info": {
   "codemirror_mode": {
    "name": "ipython",
    "version": 3
   },
   "file_extension": ".py",
   "mimetype": "text/x-python",
   "name": "python",
   "nbconvert_exporter": "python",
   "pygments_lexer": "ipython3",
   "version": "3.9.19"
  }
 },
 "nbformat": 4,
 "nbformat_minor": 2
}
